{
 "cells": [
  {
   "cell_type": "code",
   "execution_count": 44,
   "metadata": {
    "collapsed": true
   },
   "outputs": [],
   "source": [
    "import numpy as np\n",
    "import matplotlib.pyplot as plt"
   ]
  },
  {
   "cell_type": "code",
   "execution_count": 29,
   "metadata": {
    "collapsed": true
   },
   "outputs": [],
   "source": [
    "test1200 = np.load('testLoss1200.npy')\n",
    "train1200 = np.load('trainLoss1200.npy')\n",
    "te1200 = sample(test1200, 2000)\n",
    "tr1200 = sample(train1200, 2000)"
   ]
  },
  {
   "cell_type": "code",
   "execution_count": 4,
   "metadata": {
    "collapsed": true
   },
   "outputs": [],
   "source": []
  },
  {
   "cell_type": "code",
   "execution_count": 33,
   "metadata": {
    "collapsed": false
   },
   "outputs": [],
   "source": [
    "test12000 = np.load('testLoss12000.npy')\n",
    "train12000 = np.load('trainLoss12000.npy')\n",
    "te12000 = sample(test12000, 2000)\n",
    "tr12000 = sample(train12000, 2000)"
   ]
  },
  {
   "cell_type": "code",
   "execution_count": 34,
   "metadata": {
    "collapsed": false
   },
   "outputs": [],
   "source": [
    "test1200_1200 = np.load('testLoss1200_1200.npy')\n",
    "train1200_1200 = np.load('trainLoss1200_1200.npy')\n",
    "te1200_1200 = [test1200_1200[i] for i in range(len(test1200_1200)) if i % 100 == 0]\n",
    "tr1200_1200 = sample(train1200_1200, 2000)"
   ]
  },
  {
   "cell_type": "code",
   "execution_count": null,
   "metadata": {
    "collapsed": false
   },
   "outputs": [],
   "source": []
  },
  {
   "cell_type": "code",
   "execution_count": 28,
   "metadata": {
    "collapsed": false
   },
   "outputs": [],
   "source": [
    "def sample(input, step):\n",
    "    return [input[i] for i in range(len(input)) if i % step == 0]"
   ]
  },
  {
   "cell_type": "code",
   "execution_count": 41,
   "metadata": {
    "collapsed": false
   },
   "outputs": [],
   "source": [
    "epochs = [i for i in range(len(test1200)) if i % 2000 == 0]"
   ]
  },
  {
   "cell_type": "code",
   "execution_count": 54,
   "metadata": {
    "collapsed": false
   },
   "outputs": [],
   "source": [
    "plt1200, = plt.plot(epochs, te1200, '-', label='FC of size 1200')\n",
    "plt12000, = plt.plot(epochs, te12000, '-', label='FC of size 12000')\n",
    "plt1200_1200, = plt.plot(epochs, te1200_1200, '-', label='FC of size 1200*1200')"
   ]
  },
  {
   "cell_type": "code",
   "execution_count": 55,
   "metadata": {
    "collapsed": false
   },
   "outputs": [],
   "source": [
    "plt.legend(handles=[plt1200, plt12000, plt1200_1200])\n",
    "plt.show()\n"
   ]
  },
  {
   "cell_type": "code",
   "execution_count": null,
   "metadata": {
    "collapsed": true
   },
   "outputs": [],
   "source": []
  }
 ],
 "metadata": {
  "kernelspec": {
   "display_name": "Python 2",
   "language": "python",
   "name": "python2"
  },
  "language_info": {
   "codemirror_mode": {
    "name": "ipython",
    "version": 2
   },
   "file_extension": ".py",
   "mimetype": "text/x-python",
   "name": "python",
   "nbconvert_exporter": "python",
   "pygments_lexer": "ipython2",
   "version": "2.7.11"
  }
 },
 "nbformat": 4,
 "nbformat_minor": 0
}
