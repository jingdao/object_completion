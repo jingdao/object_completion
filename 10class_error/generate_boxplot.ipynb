{
 "cells": [
  {
   "cell_type": "code",
   "execution_count": 38,
   "metadata": {
    "collapsed": true
   },
   "outputs": [],
   "source": [
    "library(ggplot2)"
   ]
  },
  {
   "cell_type": "code",
   "execution_count": 39,
   "metadata": {
    "collapsed": true
   },
   "outputs": [],
   "source": [
    "labels = c('Bathtub','Bed','Chair', 'Desk','Dresser','Monitor','Night Stand','Sofa','Table','Toilet')"
   ]
  },
  {
   "cell_type": "code",
   "execution_count": 40,
   "metadata": {
    "collapsed": false
   },
   "outputs": [],
   "source": [
    "d1200 = data.frame(object=labels, ymin=c(102,34,81,34,167,30,155,77,10,200), \n",
    "                   lower=c(308,155,198,228,167,348,533,192,74,638), \n",
    "                   middle=c(416,227,264,314,994,445,834,259,129,791), \n",
    "                   upper=c(543,425,416,462,1342,561,1244,370,182,927), \n",
    "                   ymax=c(1561,1521,1821,1767,3676,3499,4297,2563,906,2774))"
   ]
  },
  {
   "cell_type": "code",
   "execution_count": 41,
   "metadata": {
    "collapsed": false
   },
   "outputs": [],
   "source": [
    "p = ggplot(d1200, aes(x=object)) +\n",
    "    geom_boxplot(aes(ymin=ymin, lower=lower, middle=middle, upper=upper, ymax=ymax), stat = \"identity\") +\n",
    "    ggtitle(\"Fully-Connected Layer of Size 1200 * 1\") + \n",
    "    labs(y=\"Mean Squared Error\")"
   ]
  },
  {
   "cell_type": "code",
   "execution_count": 42,
   "metadata": {
    "collapsed": false
   },
   "outputs": [
    {
     "name": "stderr",
     "output_type": "stream",
     "text": [
      "Saving 7 x 7 in image\n"
     ]
    }
   ],
   "source": [
    "p = p + theme(axis.title.x=element_blank())\n",
    "ggsave(filename=\"~/Downloads/1200.png\", plot=p)"
   ]
  },
  {
   "cell_type": "code",
   "execution_count": 47,
   "metadata": {
    "collapsed": false
   },
   "outputs": [],
   "source": [
    "d1200_1200 = data.frame(object=labels, ymin=c(110,76,84,34,155,23,201,102,9,211),\n",
    "                       lower=c(315,200,206,234,786,342,598,207,75,660),\n",
    "                       middle=c(410,286,275,325,1076,439,973,272,136,826),\n",
    "                       upper=c(547,481,441,475,1514,554,1433,378,187,963),\n",
    "                       ymax=c(2033,2104,2036,2106,3854,3357,4510,2840,879,2889))\n"
   ]
  },
  {
   "cell_type": "code",
   "execution_count": 48,
   "metadata": {
    "collapsed": false
   },
   "outputs": [
    {
     "name": "stderr",
     "output_type": "stream",
     "text": [
      "Saving 7 x 7 in image\n"
     ]
    }
   ],
   "source": [
    "p = ggplot(d1200_1200, aes(x=object)) +\n",
    "    geom_boxplot(aes(ymin=ymin, lower=lower, middle=middle, upper=upper, ymax=ymax), stat = \"identity\") +\n",
    "    ggtitle(\"Fully-Connected Layer of Size 1200 * 1200\") + \n",
    "    labs(y=\"Mean Squared Error\")\n",
    "p = p + theme(axis.title.x=element_blank())\n",
    "ggsave(filename=\"~/Downloads/1200_1200.png\", plot=p)"
   ]
  },
  {
   "cell_type": "code",
   "execution_count": 53,
   "metadata": {
    "collapsed": true
   },
   "outputs": [],
   "source": [
    "d12000 = data.frame(object=labels, ymin=c(100,51,82,35,273,27,198,72,9,191),\n",
    "                       lower=c(375,237,212,297,865,449,630,338,103,748),\n",
    "                       middle=c(469,330,290,432,1234,590,908,449,169,913),\n",
    "                       upper=c(651,527,464,587,1681,759,1441,548,238,1061),\n",
    "                       ymax=c(1684,1701,2047,1680,3546,3235,4032,2833,1156,2763))\n"
   ]
  },
  {
   "cell_type": "code",
   "execution_count": 55,
   "metadata": {
    "collapsed": false
   },
   "outputs": [
    {
     "name": "stderr",
     "output_type": "stream",
     "text": [
      "Saving 7 x 7 in image\n"
     ]
    }
   ],
   "source": [
    "p = ggplot(d12000, aes(x=object)) +\n",
    "    geom_boxplot(aes(ymin=ymin, lower=lower, middle=middle, upper=upper, ymax=ymax), stat = \"identity\") +\n",
    "    ggtitle(\"Fully-Connected Layer of Size 12000 * 1\") + \n",
    "    labs(y=\"Mean Squared Error\")\n",
    "p = p + theme(axis.title.x=element_blank())\n",
    "ggsave(filename=\"~/Downloads/12000.png\", plot=p)"
   ]
  },
  {
   "cell_type": "code",
   "execution_count": 51,
   "metadata": {
    "collapsed": true
   },
   "outputs": [],
   "source": [
    "d1200mask = data.frame(object=labels, ymin=c(99,41,57,33,126,20,171,64,11,147),\n",
    "                       lower=c(296,150,189,212,656,320,487,176,71,601),\n",
    "                       middle=c(396,233,256,303,957,411,813,247,125,723),\n",
    "                       upper=c(521,418,412,445,1390,528,1303,351,182,855),\n",
    "                       ymax=c(1283,1512,1858,1684,3647,3414,4173,2398,1027,2501))"
   ]
  },
  {
   "cell_type": "code",
   "execution_count": 52,
   "metadata": {
    "collapsed": false
   },
   "outputs": [
    {
     "name": "stderr",
     "output_type": "stream",
     "text": [
      "Saving 7 x 7 in image\n"
     ]
    }
   ],
   "source": [
    "p = ggplot(d1200mask, aes(x=object)) +\n",
    "    geom_boxplot(aes(ymin=ymin, lower=lower, middle=middle, upper=upper, ymax=ymax), stat = \"identity\") +\n",
    "    ggtitle(\"Fully-Connected Layer of Size 1200 * 1 with mask\") + \n",
    "    labs(y=\"Mean Squared Error\")\n",
    "p = p + theme(axis.title.x=element_blank())\n",
    "ggsave(filename=\"~/Downloads/1200mask.png\", plot=p)"
   ]
  },
  {
   "cell_type": "code",
   "execution_count": null,
   "metadata": {
    "collapsed": true
   },
   "outputs": [],
   "source": []
  }
 ],
 "metadata": {
  "kernelspec": {
   "display_name": "R",
   "language": "R",
   "name": "ir"
  },
  "language_info": {
   "codemirror_mode": "r",
   "file_extension": ".r",
   "mimetype": "text/x-r-source",
   "name": "R",
   "pygments_lexer": "r",
   "version": "3.2.2"
  }
 },
 "nbformat": 4,
 "nbformat_minor": 0
}
